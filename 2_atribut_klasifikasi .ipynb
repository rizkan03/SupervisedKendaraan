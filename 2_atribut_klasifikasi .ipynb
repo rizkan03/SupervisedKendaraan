{
  "nbformat": 4,
  "nbformat_minor": 0,
  "metadata": {
    "colab": {
      "name": "2 atribut klasifikasi",
      "provenance": [],
      "collapsed_sections": [
        "4tJ_JCT_bgDH",
        "geVyrOepYkTX",
        "TRKA4PfpZcCq",
        "14eidlX4eRg3"
      ]
    },
    "kernelspec": {
      "display_name": "Python 3",
      "language": "python",
      "name": "python3"
    },
    "language_info": {
      "codemirror_mode": {
        "name": "ipython",
        "version": 3
      },
      "file_extension": ".py",
      "mimetype": "text/x-python",
      "name": "python",
      "nbconvert_exporter": "python",
      "pygments_lexer": "ipython3",
      "version": "3.7.1"
    }
  },
  "cells": [
    {
      "cell_type": "markdown",
      "metadata": {
        "id": "kLXYVZkfafBH"
      },
      "source": [
        "#Tugas Besar Machine Learning\n",
        "\n",
        "\n",
        "\n",
        "*   Nama : Andrea Rahmadanisya\n",
        "*   NIM : 1301184146\n",
        "\n",
        "*   Nama : Rizka Nur Octvaniani\n",
        "*   NIM  : 1301184125\n"
      ]
    },
    {
      "cell_type": "markdown",
      "metadata": {
        "id": "qy2xY2LvcOK7"
      },
      "source": [
        "# Supervised"
      ]
    },
    {
      "cell_type": "markdown",
      "metadata": {
        "id": "fEyoDP1EWmGS"
      },
      "source": [
        "## Load Data"
      ]
    },
    {
      "cell_type": "code",
      "metadata": {
        "id": "aWYjIk95WxkJ"
      },
      "source": [
        "import pandas as pd\n",
        "import numpy as np\n",
        "import matplotlib.pyplot as plt\n",
        "import random\n",
        "import copy\n",
        "import seaborn as sns\n",
        "from sklearn.preprocessing import LabelEncoder\n",
        "#lib for model\n",
        "from sklearn.naive_bayes import GaussianNB\n",
        "from sklearn.tree import DecisionTreeClassifier \n",
        "from sklearn.neighbors import KNeighborsClassifier\n",
        "from sklearn.ensemble import RandomForestClassifier\n",
        "from sklearn.svm import SVC\n",
        "from sklearn.metrics import f1_score as f1\n",
        "from sklearn.metrics import accuracy_score as acc\n",
        "from sklearn.metrics import precision_score as prec\n",
        "from sklearn.metrics import recall_score as recall"
      ],
      "execution_count": null,
      "outputs": []
    },
    {
      "cell_type": "code",
      "metadata": {
        "colab": {
          "base_uri": "https://localhost:8080/",
          "height": 142
        },
        "id": "clDxggxkcTWq",
        "outputId": "9e81a561-921e-4d3d-c6cc-2b2ed373de74"
      },
      "source": [
        "DataTrain = pd.read_csv('kendaraan_train.csv')\n",
        "DataTest = pd.read_csv('kendaraan_test.csv')\n",
        "\n",
        "DataTrain = DataTrain.drop([\"id\"], axis=1)\n",
        "DataTrain.head(3)"
      ],
      "execution_count": null,
      "outputs": [
        {
          "output_type": "execute_result",
          "data": {
            "text/html": [
              "<div>\n",
              "<style scoped>\n",
              "    .dataframe tbody tr th:only-of-type {\n",
              "        vertical-align: middle;\n",
              "    }\n",
              "\n",
              "    .dataframe tbody tr th {\n",
              "        vertical-align: top;\n",
              "    }\n",
              "\n",
              "    .dataframe thead th {\n",
              "        text-align: right;\n",
              "    }\n",
              "</style>\n",
              "<table border=\"1\" class=\"dataframe\">\n",
              "  <thead>\n",
              "    <tr style=\"text-align: right;\">\n",
              "      <th></th>\n",
              "      <th>Jenis_Kelamin</th>\n",
              "      <th>Umur</th>\n",
              "      <th>SIM</th>\n",
              "      <th>Kode_Daerah</th>\n",
              "      <th>Sudah_Asuransi</th>\n",
              "      <th>Umur_Kendaraan</th>\n",
              "      <th>Kendaraan_Rusak</th>\n",
              "      <th>Premi</th>\n",
              "      <th>Kanal_Penjualan</th>\n",
              "      <th>Lama_Berlangganan</th>\n",
              "      <th>Tertarik</th>\n",
              "    </tr>\n",
              "  </thead>\n",
              "  <tbody>\n",
              "    <tr>\n",
              "      <th>0</th>\n",
              "      <td>Wanita</td>\n",
              "      <td>30.0</td>\n",
              "      <td>1.0</td>\n",
              "      <td>33.0</td>\n",
              "      <td>1.0</td>\n",
              "      <td>&lt; 1 Tahun</td>\n",
              "      <td>Tidak</td>\n",
              "      <td>28029.0</td>\n",
              "      <td>152.0</td>\n",
              "      <td>97.0</td>\n",
              "      <td>0</td>\n",
              "    </tr>\n",
              "    <tr>\n",
              "      <th>1</th>\n",
              "      <td>Pria</td>\n",
              "      <td>48.0</td>\n",
              "      <td>1.0</td>\n",
              "      <td>39.0</td>\n",
              "      <td>0.0</td>\n",
              "      <td>&gt; 2 Tahun</td>\n",
              "      <td>Pernah</td>\n",
              "      <td>25800.0</td>\n",
              "      <td>29.0</td>\n",
              "      <td>158.0</td>\n",
              "      <td>0</td>\n",
              "    </tr>\n",
              "    <tr>\n",
              "      <th>2</th>\n",
              "      <td>NaN</td>\n",
              "      <td>21.0</td>\n",
              "      <td>1.0</td>\n",
              "      <td>46.0</td>\n",
              "      <td>1.0</td>\n",
              "      <td>&lt; 1 Tahun</td>\n",
              "      <td>Tidak</td>\n",
              "      <td>32733.0</td>\n",
              "      <td>160.0</td>\n",
              "      <td>119.0</td>\n",
              "      <td>0</td>\n",
              "    </tr>\n",
              "  </tbody>\n",
              "</table>\n",
              "</div>"
            ],
            "text/plain": [
              "  Jenis_Kelamin  Umur  SIM  ...  Kanal_Penjualan  Lama_Berlangganan Tertarik\n",
              "0        Wanita  30.0  1.0  ...            152.0               97.0        0\n",
              "1          Pria  48.0  1.0  ...             29.0              158.0        0\n",
              "2           NaN  21.0  1.0  ...            160.0              119.0        0\n",
              "\n",
              "[3 rows x 11 columns]"
            ]
          },
          "metadata": {
            "tags": []
          },
          "execution_count": 2
        }
      ]
    },
    {
      "cell_type": "code",
      "metadata": {
        "colab": {
          "base_uri": "https://localhost:8080/"
        },
        "id": "4KKZ6MRFt-DB",
        "outputId": "0b98272f-9f66-4fc2-a98f-2f1238c5eab9"
      },
      "source": [
        "DataTrain[\"Tertarik\"].value_counts()"
      ],
      "execution_count": null,
      "outputs": [
        {
          "output_type": "execute_result",
          "data": {
            "text/plain": [
              "0    250825\n",
              "1     35006\n",
              "Name: Tertarik, dtype: int64"
            ]
          },
          "metadata": {
            "tags": []
          },
          "execution_count": 3
        }
      ]
    },
    {
      "cell_type": "markdown",
      "metadata": {
        "id": "4tJ_JCT_bgDH"
      },
      "source": [
        "### Clean Data Train"
      ]
    },
    {
      "cell_type": "code",
      "metadata": {
        "colab": {
          "base_uri": "https://localhost:8080/"
        },
        "id": "EnqZ_GyZdSDa",
        "outputId": "93cf0103-ceb7-438c-ede5-82bc94218f03"
      },
      "source": [
        "#fill NAN/missing value numerik using mean\n",
        "DataTrain['Umur'].fillna(DataTrain['Umur'].mean(), inplace=True)\n",
        "DataTrain['SIM'].fillna(DataTrain['SIM'].mean(), inplace=True)\n",
        "DataTrain['Kode_Daerah'].fillna(DataTrain['Kode_Daerah'].mean(), inplace=True)\n",
        "DataTrain['Sudah_Asuransi'].fillna(DataTrain['Sudah_Asuransi'].mean(), inplace=True)\n",
        "DataTrain['Premi'].fillna(DataTrain['Premi'].mean(), inplace=True)\n",
        "DataTrain['Kanal_Penjualan'].fillna(DataTrain['Kanal_Penjualan'].mean(), inplace=True)\n",
        "DataTrain['Lama_Berlangganan'].fillna(DataTrain['Lama_Berlangganan'].mean(), inplace=True)\n",
        "DataTrain['Tertarik'].fillna(DataTrain['Tertarik'].mean(), inplace=True)\n",
        "\n",
        "#fill missing value categorical using modus\n",
        "DataTrain['Jenis_Kelamin'].fillna('Pria', inplace=True)\n",
        "DataTrain['Umur_Kendaraan'].fillna('1-2 Tahun', inplace=True)\n",
        "DataTrain['Kendaraan_Rusak'].fillna('Pernah', inplace=True)\n",
        "\n",
        "# len(DataTrain)\n",
        "DataTrain.isna().sum()"
      ],
      "execution_count": null,
      "outputs": [
        {
          "output_type": "execute_result",
          "data": {
            "text/plain": [
              "Jenis_Kelamin        0\n",
              "Umur                 0\n",
              "SIM                  0\n",
              "Kode_Daerah          0\n",
              "Sudah_Asuransi       0\n",
              "Umur_Kendaraan       0\n",
              "Kendaraan_Rusak      0\n",
              "Premi                0\n",
              "Kanal_Penjualan      0\n",
              "Lama_Berlangganan    0\n",
              "Tertarik             0\n",
              "dtype: int64"
            ]
          },
          "metadata": {
            "tags": []
          },
          "execution_count": 4
        }
      ]
    },
    {
      "cell_type": "code",
      "metadata": {
        "colab": {
          "base_uri": "https://localhost:8080/"
        },
        "id": "WKUrMjWWfisC",
        "outputId": "9b404295-0bbf-413b-83c8-7e3ecc8dbf08"
      },
      "source": [
        "DataTrain.info()"
      ],
      "execution_count": null,
      "outputs": [
        {
          "output_type": "stream",
          "text": [
            "<class 'pandas.core.frame.DataFrame'>\n",
            "RangeIndex: 285831 entries, 0 to 285830\n",
            "Data columns (total 11 columns):\n",
            " #   Column             Non-Null Count   Dtype  \n",
            "---  ------             --------------   -----  \n",
            " 0   Jenis_Kelamin      285831 non-null  object \n",
            " 1   Umur               285831 non-null  float64\n",
            " 2   SIM                285831 non-null  float64\n",
            " 3   Kode_Daerah        285831 non-null  float64\n",
            " 4   Sudah_Asuransi     285831 non-null  float64\n",
            " 5   Umur_Kendaraan     285831 non-null  object \n",
            " 6   Kendaraan_Rusak    285831 non-null  object \n",
            " 7   Premi              285831 non-null  float64\n",
            " 8   Kanal_Penjualan    285831 non-null  float64\n",
            " 9   Lama_Berlangganan  285831 non-null  float64\n",
            " 10  Tertarik           285831 non-null  int64  \n",
            "dtypes: float64(7), int64(1), object(3)\n",
            "memory usage: 24.0+ MB\n"
          ],
          "name": "stdout"
        }
      ]
    },
    {
      "cell_type": "code",
      "metadata": {
        "colab": {
          "base_uri": "https://localhost:8080/",
          "height": 142
        },
        "id": "yocq8I0Ifxfc",
        "outputId": "42a47096-943a-4b20-d9e7-6a16557fad56"
      },
      "source": [
        "DataTrain['Jenis_Kelamin']= LabelEncoder().fit_transform(DataTrain['Jenis_Kelamin']) \n",
        "DataTrain['Umur_Kendaraan']= LabelEncoder().fit_transform(DataTrain['Umur_Kendaraan']) \n",
        "# Train['Kendaraan_Rusak']= LabelEncoder().fit_transform(Train['Kendaraan_Rusak']) \n",
        "\n",
        "# Train['Jenis_Kelamin'] = (Train['Jenis_Kelamin']=='Pernah').astype(int)\n",
        "# Train['Umur_Kendaraan'] = (Train['Umur_Kendaraan']=='Pernah').astype(int)\n",
        "DataTrain['Kendaraan_Rusak'] = (DataTrain['Kendaraan_Rusak']=='Pernah').astype(int)\n",
        "\n",
        "DataTrain.head(3)"
      ],
      "execution_count": null,
      "outputs": [
        {
          "output_type": "execute_result",
          "data": {
            "text/html": [
              "<div>\n",
              "<style scoped>\n",
              "    .dataframe tbody tr th:only-of-type {\n",
              "        vertical-align: middle;\n",
              "    }\n",
              "\n",
              "    .dataframe tbody tr th {\n",
              "        vertical-align: top;\n",
              "    }\n",
              "\n",
              "    .dataframe thead th {\n",
              "        text-align: right;\n",
              "    }\n",
              "</style>\n",
              "<table border=\"1\" class=\"dataframe\">\n",
              "  <thead>\n",
              "    <tr style=\"text-align: right;\">\n",
              "      <th></th>\n",
              "      <th>Jenis_Kelamin</th>\n",
              "      <th>Umur</th>\n",
              "      <th>SIM</th>\n",
              "      <th>Kode_Daerah</th>\n",
              "      <th>Sudah_Asuransi</th>\n",
              "      <th>Umur_Kendaraan</th>\n",
              "      <th>Kendaraan_Rusak</th>\n",
              "      <th>Premi</th>\n",
              "      <th>Kanal_Penjualan</th>\n",
              "      <th>Lama_Berlangganan</th>\n",
              "      <th>Tertarik</th>\n",
              "    </tr>\n",
              "  </thead>\n",
              "  <tbody>\n",
              "    <tr>\n",
              "      <th>0</th>\n",
              "      <td>1</td>\n",
              "      <td>30.0</td>\n",
              "      <td>1.0</td>\n",
              "      <td>33.0</td>\n",
              "      <td>1.0</td>\n",
              "      <td>1</td>\n",
              "      <td>0</td>\n",
              "      <td>28029.0</td>\n",
              "      <td>152.0</td>\n",
              "      <td>97.0</td>\n",
              "      <td>0</td>\n",
              "    </tr>\n",
              "    <tr>\n",
              "      <th>1</th>\n",
              "      <td>0</td>\n",
              "      <td>48.0</td>\n",
              "      <td>1.0</td>\n",
              "      <td>39.0</td>\n",
              "      <td>0.0</td>\n",
              "      <td>2</td>\n",
              "      <td>1</td>\n",
              "      <td>25800.0</td>\n",
              "      <td>29.0</td>\n",
              "      <td>158.0</td>\n",
              "      <td>0</td>\n",
              "    </tr>\n",
              "    <tr>\n",
              "      <th>2</th>\n",
              "      <td>0</td>\n",
              "      <td>21.0</td>\n",
              "      <td>1.0</td>\n",
              "      <td>46.0</td>\n",
              "      <td>1.0</td>\n",
              "      <td>1</td>\n",
              "      <td>0</td>\n",
              "      <td>32733.0</td>\n",
              "      <td>160.0</td>\n",
              "      <td>119.0</td>\n",
              "      <td>0</td>\n",
              "    </tr>\n",
              "  </tbody>\n",
              "</table>\n",
              "</div>"
            ],
            "text/plain": [
              "   Jenis_Kelamin  Umur  SIM  ...  Kanal_Penjualan  Lama_Berlangganan  Tertarik\n",
              "0              1  30.0  1.0  ...            152.0               97.0         0\n",
              "1              0  48.0  1.0  ...             29.0              158.0         0\n",
              "2              0  21.0  1.0  ...            160.0              119.0         0\n",
              "\n",
              "[3 rows x 11 columns]"
            ]
          },
          "metadata": {
            "tags": []
          },
          "execution_count": 6
        }
      ]
    },
    {
      "cell_type": "code",
      "metadata": {
        "colab": {
          "base_uri": "https://localhost:8080/",
          "height": 593
        },
        "id": "KJ3Aytv0eOHl",
        "outputId": "7a844f5c-ac19-4abf-f5dc-4c56ed5c3b9b"
      },
      "source": [
        "#check correlation\n",
        "sns.set(rc={'figure.figsize':(11,8)})\n",
        "def heatmap(data):\n",
        "  sns.heatmap(data.corr(), vmax=1, annot=True, cmap='Pastel1')\n",
        "\n",
        "heatmap(DataTrain)"
      ],
      "execution_count": null,
      "outputs": [
        {
          "output_type": "display_data",
          "data": {
            "image/png": "[encoded data removed]",
            "text/plain": [
              "<Figure size 792x576 with 2 Axes>"
            ]
          },
          "metadata": {
            "tags": []
          }
        }
      ]
    },
    {
      "cell_type": "code",
      "metadata": {
        "colab": {
          "base_uri": "https://localhost:8080/",
          "height": 483
        },
        "id": "CySE3sT2d7gO",
        "outputId": "9e0229b2-123d-4ede-bdd0-7129d76e913d"
      },
      "source": [
        "#outlier\n",
        "def Check_outlier(data):\n",
        "  plt.figure(figsize=(60, 60))\n",
        "  f, axes = plt.subplots(1, 9)\n",
        "  sns.boxplot(y= data['Jenis_Kelamin'], ax= axes[0], color='rosybrown')\n",
        "  sns.boxplot(y= data['Umur'], ax= axes[1], color='rosybrown')\n",
        "  sns.boxplot(y= data['SIM'], ax=axes[2], color='rosybrown')\n",
        "  sns.boxplot(y= data['Kode_Daerah'], ax=axes[3], color='rosybrown')\n",
        "  sns.boxplot(y= data['Sudah_Asuransi'], ax=axes[4], color='rosybrown')\n",
        "  sns.boxplot(y= data['Umur_Kendaraan'], ax=axes[5], color='rosybrown')\n",
        "  sns.boxplot(y= data['Premi'], ax=axes[6], color='rosybrown')\n",
        "  sns.boxplot(y= data['Kanal_Penjualan'], ax=axes[7], color='rosybrown')\n",
        "  sns.boxplot(y= data['Lama_Berlangganan'], ax=axes[8], color='rosybrown')\n",
        "  plt.subplots_adjust(wspace=0)\n",
        "\n",
        "Check_outlier(DataTrain)"
      ],
      "execution_count": null,
      "outputs": [
        {
          "output_type": "display_data",
          "data": {
            "text/plain": [
              "<Figure size 4320x4320 with 0 Axes>"
            ]
          },
          "metadata": {
            "tags": []
          }
        },
        {
          "output_type": "display_data",
          "data": {
            "image/png": "[encoded data removed]",
            "text/plain": [
              "<Figure size 792x576 with 9 Axes>"
            ]
          },
          "metadata": {
            "tags": []
          }
        }
      ]
    },
    {
      "cell_type": "code",
      "metadata": {
        "colab": {
          "base_uri": "https://localhost:8080/"
        },
        "id": "qSzAeZSZgn9k",
        "outputId": "df788519-6ac0-479c-c1d4-aabd8c1b684b"
      },
      "source": [
        "#handle outlier \n",
        "while True:\n",
        "  qlo1, qlo3 = np.percentile(DataTrain['SIM'],[25,75])\n",
        "  iqrlo = qlo3 - qlo1\n",
        "  lowerlo = qlo1 - (1.5 * iqrlo)\n",
        "  upperlo = qlo3 + (1.5 * iqrlo)\n",
        "  outlierlo = DataTrain[(DataTrain['SIM'] < (lowerlo)) | (DataTrain['SIM'] > (upperlo))]\n",
        "  print('amount of outlier data',outlierlo.shape[0]) #amount of outlier data\n",
        "  idxlo = outlierlo.index\n",
        "  DataTrain.drop(idxlo, inplace=True) #drop outlier data\n",
        "  if (outlierlo.shape[0] <= 0):\n",
        "    break\n",
        "\n",
        "DataTrain['SIM'].describe()"
      ],
      "execution_count": null,
      "outputs": [
        {
          "output_type": "stream",
          "text": [
            "amount of outlier data 14988\n",
            "amount of outlier data 0\n"
          ],
          "name": "stdout"
        },
        {
          "output_type": "execute_result",
          "data": {
            "text/plain": [
              "count    270843.0\n",
              "mean          1.0\n",
              "std           0.0\n",
              "min           1.0\n",
              "25%           1.0\n",
              "50%           1.0\n",
              "75%           1.0\n",
              "max           1.0\n",
              "Name: SIM, dtype: float64"
            ]
          },
          "metadata": {
            "tags": []
          },
          "execution_count": 9
        }
      ]
    },
    {
      "cell_type": "code",
      "metadata": {
        "colab": {
          "base_uri": "https://localhost:8080/"
        },
        "id": "jJKaYsV8g-wb",
        "outputId": "fe2ae854-251b-4112-dedf-0faa9b3bba11"
      },
      "source": [
        "#handle outlier \n",
        "while True:\n",
        "  qlo1, qlo3 = np.percentile(DataTrain['Premi'],[25,75])\n",
        "  iqrlo = qlo3 - qlo1\n",
        "  lowerlo = qlo1 - (1.5 * iqrlo)\n",
        "  upperlo = qlo3 + (1.5 * iqrlo)\n",
        "  outlierlo = DataTrain[(DataTrain['Premi'] < (lowerlo)) | (DataTrain['Premi'] > (upperlo))]\n",
        "  print('amount of outlier data',outlierlo.shape[0]) #amount of outlier data\n",
        "  idxlo = outlierlo.index\n",
        "  DataTrain.drop(idxlo, inplace=True) #drop outlier data\n",
        "  if (outlierlo.shape[0] <= 0):\n",
        "    break\n",
        "\n",
        "DataTrain['Premi'].describe()"
      ],
      "execution_count": null,
      "outputs": [
        {
          "output_type": "stream",
          "text": [
            "amount of outlier data 52237\n",
            "amount of outlier data 3477\n",
            "amount of outlier data 1135\n",
            "amount of outlier data 402\n",
            "amount of outlier data 141\n",
            "amount of outlier data 35\n",
            "amount of outlier data 13\n",
            "amount of outlier data 5\n",
            "amount of outlier data 0\n"
          ],
          "name": "stdout"
        },
        {
          "output_type": "execute_result",
          "data": {
            "text/plain": [
              "count    213398.000000\n",
              "mean      33913.436991\n",
              "std        7871.633954\n",
              "min       12867.000000\n",
              "25%       28498.000000\n",
              "50%       32482.000000\n",
              "75%       38947.000000\n",
              "max       54620.000000\n",
              "Name: Premi, dtype: float64"
            ]
          },
          "metadata": {
            "tags": []
          },
          "execution_count": 10
        }
      ]
    },
    {
      "cell_type": "code",
      "metadata": {
        "colab": {
          "base_uri": "https://localhost:8080/"
        },
        "id": "YjuGW74thMYh",
        "outputId": "f11c015e-0a69-415b-8f00-df9258279c1f"
      },
      "source": [
        "#handle outlier \n",
        "while True:\n",
        "  qlo1, qlo3 = np.percentile(DataTrain['Lama_Berlangganan'],[25,75])\n",
        "  iqrlo = qlo3 - qlo1\n",
        "  lowerlo = qlo1 - (1.5 * iqrlo)\n",
        "  upperlo = qlo3 + (1.5 * iqrlo)\n",
        "  outlierlo = DataTrain[(DataTrain['Lama_Berlangganan'] < (lowerlo)) | (DataTrain['Lama_Berlangganan'] > (upperlo))]\n",
        "  print('amount of outlier data',outlierlo.shape[0]) #amount of outlier data\n",
        "  idxlo = outlierlo.index\n",
        "  DataTrain.drop(idxlo, inplace=True) #drop outlier data\n",
        "  if (outlierlo.shape[0] <= 0):\n",
        "    break\n",
        "\n",
        "DataTrain['Lama_Berlangganan'].describe()"
      ],
      "execution_count": null,
      "outputs": [
        {
          "output_type": "stream",
          "text": [
            "amount of outlier data 0\n"
          ],
          "name": "stdout"
        },
        {
          "output_type": "execute_result",
          "data": {
            "text/plain": [
              "count    213398.000000\n",
              "mean        154.276252\n",
              "std          81.682495\n",
              "min          10.000000\n",
              "25%          85.000000\n",
              "50%         154.286302\n",
              "75%         223.000000\n",
              "max         299.000000\n",
              "Name: Lama_Berlangganan, dtype: float64"
            ]
          },
          "metadata": {
            "tags": []
          },
          "execution_count": 11
        }
      ]
    },
    {
      "cell_type": "code",
      "metadata": {
        "colab": {
          "base_uri": "https://localhost:8080/",
          "height": 483
        },
        "id": "T7784bqshEZ9",
        "outputId": "aad239cb-cbf5-458e-f96c-912a310cc520"
      },
      "source": [
        "#outlier\n",
        "def Check_outlierdone(data):\n",
        "  plt.figure(figsize=(60, 60))\n",
        "  f, axes = plt.subplots(1, 9)\n",
        "  sns.boxplot(y= data['Jenis_Kelamin'], ax= axes[0], color='rosybrown')\n",
        "  sns.boxplot(y= data['Umur'], ax= axes[1], color='rosybrown')\n",
        "  sns.boxplot(y= data['SIM'], ax=axes[2], color='rosybrown')\n",
        "  sns.boxplot(y= data['Kode_Daerah'], ax=axes[3], color='rosybrown')\n",
        "  sns.boxplot(y= data['Sudah_Asuransi'], ax=axes[4], color='rosybrown')\n",
        "  sns.boxplot(y= data['Umur_Kendaraan'], ax=axes[5], color='rosybrown')\n",
        "  sns.boxplot(y= data['Premi'], ax=axes[6], color='rosybrown')\n",
        "  sns.boxplot(y= data['Kanal_Penjualan'], ax=axes[7], color='rosybrown')\n",
        "  sns.boxplot(y= data['Lama_Berlangganan'], ax=axes[8], color='rosybrown')\n",
        "  plt.subplots_adjust(wspace=0)\n",
        "\n",
        "Check_outlierdone(DataTrain)"
      ],
      "execution_count": null,
      "outputs": [
        {
          "output_type": "display_data",
          "data": {
            "text/plain": [
              "<Figure size 4320x4320 with 0 Axes>"
            ]
          },
          "metadata": {
            "tags": []
          }
        },
        {
          "output_type": "display_data",
          "data": {
            "image/png": "[encoded data removed]",
            "text/plain": [
              "<Figure size 792x576 with 9 Axes>"
            ]
          },
          "metadata": {
            "tags": []
          }
        }
      ]
    },
    {
      "cell_type": "markdown",
      "metadata": {
        "id": "geVyrOepYkTX"
      },
      "source": [
        "### clean Test"
      ]
    },
    {
      "cell_type": "code",
      "metadata": {
        "colab": {
          "base_uri": "https://localhost:8080/"
        },
        "id": "hDTK9Gxydlcz",
        "outputId": "6adead56-b160-441b-fb56-588f0eb543be"
      },
      "source": [
        "DataTest.fillna(DataTest.mean(), inplace=True)\n",
        "DataTest.head(3)\n",
        "DataTest.isna().sum()"
      ],
      "execution_count": null,
      "outputs": [
        {
          "output_type": "execute_result",
          "data": {
            "text/plain": [
              "Jenis_Kelamin        0\n",
              "Umur                 0\n",
              "SIM                  0\n",
              "Kode_Daerah          0\n",
              "Sudah_Asuransi       0\n",
              "Umur_Kendaraan       0\n",
              "Kendaraan_Rusak      0\n",
              "Premi                0\n",
              "Kanal_Penjualan      0\n",
              "Lama_Berlangganan    0\n",
              "Tertarik             0\n",
              "dtype: int64"
            ]
          },
          "metadata": {
            "tags": []
          },
          "execution_count": 14
        }
      ]
    },
    {
      "cell_type": "code",
      "metadata": {
        "colab": {
          "base_uri": "https://localhost:8080/",
          "height": 142
        },
        "id": "3S7QRbEnZGol",
        "outputId": "4bbdd2d7-74ba-44d2-e04f-9d4ebf4470f9"
      },
      "source": [
        "DataTest['Jenis_Kelamin']= LabelEncoder().fit_transform(DataTest['Jenis_Kelamin']) \n",
        "DataTest['Umur_Kendaraan']= LabelEncoder().fit_transform(DataTest['Umur_Kendaraan']) \n",
        "# DataTest['Kendaraan_Rusak']= LabelEncoder().fit_transform(DataTest['Kendaraan_Rusak']) \n",
        "\n",
        "DataTest['Kendaraan_Rusak'] = (DataTest['Kendaraan_Rusak']=='Pernah').astype(int)\n",
        "\n",
        "DataTest.head(3)"
      ],
      "execution_count": null,
      "outputs": [
        {
          "output_type": "execute_result",
          "data": {
            "text/html": [
              "<div>\n",
              "<style scoped>\n",
              "    .dataframe tbody tr th:only-of-type {\n",
              "        vertical-align: middle;\n",
              "    }\n",
              "\n",
              "    .dataframe tbody tr th {\n",
              "        vertical-align: top;\n",
              "    }\n",
              "\n",
              "    .dataframe thead th {\n",
              "        text-align: right;\n",
              "    }\n",
              "</style>\n",
              "<table border=\"1\" class=\"dataframe\">\n",
              "  <thead>\n",
              "    <tr style=\"text-align: right;\">\n",
              "      <th></th>\n",
              "      <th>Jenis_Kelamin</th>\n",
              "      <th>Umur</th>\n",
              "      <th>SIM</th>\n",
              "      <th>Kode_Daerah</th>\n",
              "      <th>Sudah_Asuransi</th>\n",
              "      <th>Umur_Kendaraan</th>\n",
              "      <th>Kendaraan_Rusak</th>\n",
              "      <th>Premi</th>\n",
              "      <th>Kanal_Penjualan</th>\n",
              "      <th>Lama_Berlangganan</th>\n",
              "      <th>Tertarik</th>\n",
              "    </tr>\n",
              "  </thead>\n",
              "  <tbody>\n",
              "    <tr>\n",
              "      <th>0</th>\n",
              "      <td>1</td>\n",
              "      <td>49</td>\n",
              "      <td>1</td>\n",
              "      <td>8</td>\n",
              "      <td>0</td>\n",
              "      <td>0</td>\n",
              "      <td>1</td>\n",
              "      <td>46963</td>\n",
              "      <td>26</td>\n",
              "      <td>145</td>\n",
              "      <td>0</td>\n",
              "    </tr>\n",
              "    <tr>\n",
              "      <th>1</th>\n",
              "      <td>0</td>\n",
              "      <td>22</td>\n",
              "      <td>1</td>\n",
              "      <td>47</td>\n",
              "      <td>1</td>\n",
              "      <td>1</td>\n",
              "      <td>0</td>\n",
              "      <td>39624</td>\n",
              "      <td>152</td>\n",
              "      <td>241</td>\n",
              "      <td>0</td>\n",
              "    </tr>\n",
              "    <tr>\n",
              "      <th>2</th>\n",
              "      <td>0</td>\n",
              "      <td>24</td>\n",
              "      <td>1</td>\n",
              "      <td>28</td>\n",
              "      <td>1</td>\n",
              "      <td>1</td>\n",
              "      <td>0</td>\n",
              "      <td>110479</td>\n",
              "      <td>152</td>\n",
              "      <td>62</td>\n",
              "      <td>0</td>\n",
              "    </tr>\n",
              "  </tbody>\n",
              "</table>\n",
              "</div>"
            ],
            "text/plain": [
              "   Jenis_Kelamin  Umur  SIM  ...  Kanal_Penjualan  Lama_Berlangganan  Tertarik\n",
              "0              1    49    1  ...               26                145         0\n",
              "1              0    22    1  ...              152                241         0\n",
              "2              0    24    1  ...              152                 62         0\n",
              "\n",
              "[3 rows x 11 columns]"
            ]
          },
          "metadata": {
            "tags": []
          },
          "execution_count": 15
        }
      ]
    },
    {
      "cell_type": "code",
      "metadata": {
        "colab": {
          "base_uri": "https://localhost:8080/",
          "height": 593
        },
        "id": "n-XdSnGnYpYW",
        "outputId": "11308e66-bc0b-4850-f071-21544a62812c"
      },
      "source": [
        "#check correlation\n",
        "heatmap(DataTest)"
      ],
      "execution_count": null,
      "outputs": [
        {
          "output_type": "display_data",
          "data": {
            "image/png": "[encoded data removed]",
            "text/plain": [
              "<Figure size 792x576 with 2 Axes>"
            ]
          },
          "metadata": {
            "tags": []
          }
        }
      ]
    },
    {
      "cell_type": "code",
      "metadata": {
        "colab": {
          "base_uri": "https://localhost:8080/",
          "height": 483
        },
        "id": "VZcaVMepYw8K",
        "outputId": "1f38ee1b-dd26-4ac1-e8e1-3947206d90ca"
      },
      "source": [
        "#outlier\n",
        "Check_outlier(DataTest)"
      ],
      "execution_count": null,
      "outputs": [
        {
          "output_type": "display_data",
          "data": {
            "text/plain": [
              "<Figure size 4320x4320 with 0 Axes>"
            ]
          },
          "metadata": {
            "tags": []
          }
        },
        {
          "output_type": "display_data",
          "data": {
            "image/png": "[encoded data removed]",
            "text/plain": [
              "<Figure size 792x576 with 9 Axes>"
            ]
          },
          "metadata": {
            "tags": []
          }
        }
      ]
    },
    {
      "cell_type": "markdown",
      "metadata": {
        "id": "TRKA4PfpZcCq"
      },
      "source": [
        "## clean data"
      ]
    },
    {
      "cell_type": "code",
      "metadata": {
        "colab": {
          "base_uri": "https://localhost:8080/"
        },
        "id": "mhBwW5rgZidv",
        "outputId": "72b726da-551f-4380-db73-0f867373c235"
      },
      "source": [
        "#handle outlier \n",
        "while True:\n",
        "  qlo1, qlo3 = np.percentile(DataTest['SIM'],[25,75])\n",
        "  iqrlo = qlo3 - qlo1\n",
        "  lowerlo = qlo1 - (1.5 * iqrlo)\n",
        "  upperlo = qlo3 + (1.5 * iqrlo)\n",
        "  outlierlo = DataTest[(DataTest['SIM'] < (lowerlo)) | (DataTest['SIM'] > (upperlo))]\n",
        "  print('amount of outlier data',outlierlo.shape[0]) #amount of outlier data\n",
        "  idxlo = outlierlo.index\n",
        "  DataTest.drop(idxlo, inplace=True) #drop outlier data\n",
        "  if (outlierlo.shape[0] <= 0):\n",
        "    break\n",
        "\n",
        "DataTest['SIM'].describe()"
      ],
      "execution_count": null,
      "outputs": [
        {
          "output_type": "stream",
          "text": [
            "amount of outlier data 99\n",
            "amount of outlier data 0\n"
          ],
          "name": "stdout"
        },
        {
          "output_type": "execute_result",
          "data": {
            "text/plain": [
              "count    47540.0\n",
              "mean         1.0\n",
              "std          0.0\n",
              "min          1.0\n",
              "25%          1.0\n",
              "50%          1.0\n",
              "75%          1.0\n",
              "max          1.0\n",
              "Name: SIM, dtype: float64"
            ]
          },
          "metadata": {
            "tags": []
          },
          "execution_count": 18
        }
      ]
    },
    {
      "cell_type": "code",
      "metadata": {
        "colab": {
          "base_uri": "https://localhost:8080/"
        },
        "id": "SjpzoaeWZnr3",
        "outputId": "f30260e5-791f-48f5-c5dd-4f2c8e58aed5"
      },
      "source": [
        "#handle outlier \n",
        "while True:\n",
        "  qlo1, qlo3 = np.percentile(DataTest['Premi'],[25,75])\n",
        "  iqrlo = qlo3 - qlo1\n",
        "  lowerlo = qlo1 - (1.5 * iqrlo)\n",
        "  upperlo = qlo3 + (1.5 * iqrlo)\n",
        "  outlierlo = DataTest[(DataTest['Premi'] < (lowerlo)) | (DataTest['Premi'] > (upperlo))]\n",
        "  print('amount of outlier data',outlierlo.shape[0]) #amount of outlier data\n",
        "  idxlo = outlierlo.index\n",
        "  DataTest.drop(idxlo, inplace=True) #drop outlier data\n",
        "  if (outlierlo.shape[0] <= 0):\n",
        "    break\n",
        "\n",
        "DataTest['Premi'].describe()"
      ],
      "execution_count": null,
      "outputs": [
        {
          "output_type": "stream",
          "text": [
            "amount of outlier data 1269\n",
            "amount of outlier data 210\n",
            "amount of outlier data 31\n",
            "amount of outlier data 3\n",
            "amount of outlier data 0\n"
          ],
          "name": "stdout"
        },
        {
          "output_type": "execute_result",
          "data": {
            "text/plain": [
              "count    46027.000000\n",
              "mean     29142.332653\n",
              "std      14622.127210\n",
              "min       2630.000000\n",
              "25%      24015.000000\n",
              "50%      31340.000000\n",
              "75%      38484.000000\n",
              "max      60183.000000\n",
              "Name: Premi, dtype: float64"
            ]
          },
          "metadata": {
            "tags": []
          },
          "execution_count": 19
        }
      ]
    },
    {
      "cell_type": "code",
      "metadata": {
        "colab": {
          "base_uri": "https://localhost:8080/"
        },
        "id": "3iAHnU6cZvsP",
        "outputId": "01acb8b7-3f32-4e42-dc07-27d85beabf91"
      },
      "source": [
        "#handle outlier \n",
        "while True:\n",
        "  qlo1, qlo3 = np.percentile(DataTest['Umur'],[25,75])\n",
        "  iqrlo = qlo3 - qlo1\n",
        "  lowerlo = qlo1 - (1.5 * iqrlo)\n",
        "  upperlo = qlo3 + (1.5 * iqrlo)\n",
        "  outlierlo = DataTest[(DataTest['Umur'] < (lowerlo)) | (DataTest['Umur'] > (upperlo))]\n",
        "  print('amount of outlier data',outlierlo.shape[0]) #amount of outlier data\n",
        "  idxlo = outlierlo.index\n",
        "  DataTest.drop(idxlo, inplace=True) #drop outlier data\n",
        "  if (outlierlo.shape[0] <= 0):\n",
        "    break\n",
        "\n",
        "DataTest['Umur'].describe()"
      ],
      "execution_count": null,
      "outputs": [
        {
          "output_type": "stream",
          "text": [
            "amount of outlier data 0\n"
          ],
          "name": "stdout"
        },
        {
          "output_type": "execute_result",
          "data": {
            "text/plain": [
              "count    46027.000000\n",
              "mean        38.552480\n",
              "std         15.416229\n",
              "min         20.000000\n",
              "25%         25.000000\n",
              "50%         36.000000\n",
              "75%         49.000000\n",
              "max         85.000000\n",
              "Name: Umur, dtype: float64"
            ]
          },
          "metadata": {
            "tags": []
          },
          "execution_count": 20
        }
      ]
    },
    {
      "cell_type": "code",
      "metadata": {
        "colab": {
          "base_uri": "https://localhost:8080/",
          "height": 487
        },
        "id": "lk7nDJp8ZyNF",
        "outputId": "ef267ca0-d478-47c9-c3a7-b12d92ca0a25"
      },
      "source": [
        "#outlier\n",
        "def Check_outlier(data):\n",
        "  plt.figure(figsize=(60, 60))\n",
        "  f, axes = plt.subplots(1, 9)\n",
        "  sns.boxplot(y= DataTest['Jenis_Kelamin'], ax= axes[0], color='rosybrown')\n",
        "  sns.boxplot(y= DataTest['Umur'], ax= axes[1], color='rosybrown')\n",
        "  sns.boxplot(y= DataTest['SIM'], ax=axes[2], color='rosybrown')\n",
        "  sns.boxplot(y= DataTest['Kode_Daerah'], ax=axes[3], color='rosybrown')\n",
        "  sns.boxplot(y= DataTest['Sudah_Asuransi'], ax=axes[4], color='rosybrown')\n",
        "  sns.boxplot(y= DataTest['Umur_Kendaraan'], ax=axes[5], color='rosybrown')\n",
        "  sns.boxplot(y= DataTest['Premi'], ax=axes[6], color='rosybrown')\n",
        "  sns.boxplot(y= DataTest['Kanal_Penjualan'], ax=axes[7], color='rosybrown')\n",
        "  sns.boxplot(y= DataTest['Lama_Berlangganan'], ax=axes[8], color='rosybrown')\n",
        "  plt.subplots_adjust(wspace=0)\n",
        "\n",
        "Check_outlier(DataTest)"
      ],
      "execution_count": null,
      "outputs": [
        {
          "output_type": "display_data",
          "data": {
            "text/plain": [
              "<Figure size 4320x4320 with 0 Axes>"
            ]
          },
          "metadata": {
            "tags": []
          }
        },
        {
          "output_type": "display_data",
          "data": {
            "image/png": "[encoded data removed]",
            "text/plain": [
              "<Figure size 792x576 with 9 Axes>"
            ]
          },
          "metadata": {
            "tags": []
          }
        }
      ]
    },
    {
      "cell_type": "code",
      "metadata": {
        "colab": {
          "base_uri": "https://localhost:8080/"
        },
        "id": "G0FyuLtVheQq",
        "outputId": "c65a7b9f-7058-4aee-e30b-bbdc7933da55"
      },
      "source": [
        "print(len(DataTrain))\n",
        "print(len(DataTest))"
      ],
      "execution_count": null,
      "outputs": [
        {
          "output_type": "stream",
          "text": [
            "213398\n",
            "46027\n"
          ],
          "name": "stdout"
        }
      ]
    },
    {
      "cell_type": "markdown",
      "metadata": {
        "id": "14eidlX4eRg3"
      },
      "source": [
        "## Pemodelan"
      ]
    },
    {
      "cell_type": "code",
      "metadata": {
        "colab": {
          "base_uri": "https://localhost:8080/",
          "height": 204
        },
        "id": "0hlCST9h_18n",
        "outputId": "08cf189e-f7cc-4d09-fcad-4dd7427983f0"
      },
      "source": [
        "DTrain = DataTrain[['Umur','Premi','Tertarik']]\n",
        "DTrain.head()"
      ],
      "execution_count": null,
      "outputs": [
        {
          "output_type": "execute_result",
          "data": {
            "text/html": [
              "<div>\n",
              "<style scoped>\n",
              "    .dataframe tbody tr th:only-of-type {\n",
              "        vertical-align: middle;\n",
              "    }\n",
              "\n",
              "    .dataframe tbody tr th {\n",
              "        vertical-align: top;\n",
              "    }\n",
              "\n",
              "    .dataframe thead th {\n",
              "        text-align: right;\n",
              "    }\n",
              "</style>\n",
              "<table border=\"1\" class=\"dataframe\">\n",
              "  <thead>\n",
              "    <tr style=\"text-align: right;\">\n",
              "      <th></th>\n",
              "      <th>Umur</th>\n",
              "      <th>Premi</th>\n",
              "      <th>Tertarik</th>\n",
              "    </tr>\n",
              "  </thead>\n",
              "  <tbody>\n",
              "    <tr>\n",
              "      <th>0</th>\n",
              "      <td>30.0</td>\n",
              "      <td>28029.0</td>\n",
              "      <td>0</td>\n",
              "    </tr>\n",
              "    <tr>\n",
              "      <th>1</th>\n",
              "      <td>48.0</td>\n",
              "      <td>25800.0</td>\n",
              "      <td>0</td>\n",
              "    </tr>\n",
              "    <tr>\n",
              "      <th>2</th>\n",
              "      <td>21.0</td>\n",
              "      <td>32733.0</td>\n",
              "      <td>0</td>\n",
              "    </tr>\n",
              "    <tr>\n",
              "      <th>4</th>\n",
              "      <td>50.0</td>\n",
              "      <td>34857.0</td>\n",
              "      <td>0</td>\n",
              "    </tr>\n",
              "    <tr>\n",
              "      <th>5</th>\n",
              "      <td>21.0</td>\n",
              "      <td>22735.0</td>\n",
              "      <td>0</td>\n",
              "    </tr>\n",
              "  </tbody>\n",
              "</table>\n",
              "</div>"
            ],
            "text/plain": [
              "   Umur    Premi  Tertarik\n",
              "0  30.0  28029.0         0\n",
              "1  48.0  25800.0         0\n",
              "2  21.0  32733.0         0\n",
              "4  50.0  34857.0         0\n",
              "5  21.0  22735.0         0"
            ]
          },
          "metadata": {
            "tags": []
          },
          "execution_count": 24
        }
      ]
    },
    {
      "cell_type": "code",
      "metadata": {
        "colab": {
          "base_uri": "https://localhost:8080/",
          "height": 142
        },
        "id": "pf7NBRkaBRTm",
        "outputId": "5ea68594-ee24-4e4d-bbcd-3850b3891477"
      },
      "source": [
        "targetTrain = DTrain['Tertarik']\n",
        "Train = DTrain.drop([\"Tertarik\"], axis=1)\n",
        "Train.head(3)"
      ],
      "execution_count": null,
      "outputs": [
        {
          "output_type": "execute_result",
          "data": {
            "text/html": [
              "<div>\n",
              "<style scoped>\n",
              "    .dataframe tbody tr th:only-of-type {\n",
              "        vertical-align: middle;\n",
              "    }\n",
              "\n",
              "    .dataframe tbody tr th {\n",
              "        vertical-align: top;\n",
              "    }\n",
              "\n",
              "    .dataframe thead th {\n",
              "        text-align: right;\n",
              "    }\n",
              "</style>\n",
              "<table border=\"1\" class=\"dataframe\">\n",
              "  <thead>\n",
              "    <tr style=\"text-align: right;\">\n",
              "      <th></th>\n",
              "      <th>Umur</th>\n",
              "      <th>Premi</th>\n",
              "    </tr>\n",
              "  </thead>\n",
              "  <tbody>\n",
              "    <tr>\n",
              "      <th>0</th>\n",
              "      <td>30.0</td>\n",
              "      <td>28029.0</td>\n",
              "    </tr>\n",
              "    <tr>\n",
              "      <th>1</th>\n",
              "      <td>48.0</td>\n",
              "      <td>25800.0</td>\n",
              "    </tr>\n",
              "    <tr>\n",
              "      <th>2</th>\n",
              "      <td>21.0</td>\n",
              "      <td>32733.0</td>\n",
              "    </tr>\n",
              "  </tbody>\n",
              "</table>\n",
              "</div>"
            ],
            "text/plain": [
              "   Umur    Premi\n",
              "0  30.0  28029.0\n",
              "1  48.0  25800.0\n",
              "2  21.0  32733.0"
            ]
          },
          "metadata": {
            "tags": []
          },
          "execution_count": 25
        }
      ]
    },
    {
      "cell_type": "code",
      "metadata": {
        "colab": {
          "base_uri": "https://localhost:8080/",
          "height": 204
        },
        "id": "kNzm5WpzBIRM",
        "outputId": "74741ec8-765f-4c42-c12a-8460c49aee52"
      },
      "source": [
        "DTest = DataTest[['Umur','Premi','Tertarik']]\n",
        "DTest.head()"
      ],
      "execution_count": null,
      "outputs": [
        {
          "output_type": "execute_result",
          "data": {
            "text/html": [
              "<div>\n",
              "<style scoped>\n",
              "    .dataframe tbody tr th:only-of-type {\n",
              "        vertical-align: middle;\n",
              "    }\n",
              "\n",
              "    .dataframe tbody tr th {\n",
              "        vertical-align: top;\n",
              "    }\n",
              "\n",
              "    .dataframe thead th {\n",
              "        text-align: right;\n",
              "    }\n",
              "</style>\n",
              "<table border=\"1\" class=\"dataframe\">\n",
              "  <thead>\n",
              "    <tr style=\"text-align: right;\">\n",
              "      <th></th>\n",
              "      <th>Umur</th>\n",
              "      <th>Premi</th>\n",
              "      <th>Tertarik</th>\n",
              "    </tr>\n",
              "  </thead>\n",
              "  <tbody>\n",
              "    <tr>\n",
              "      <th>0</th>\n",
              "      <td>49</td>\n",
              "      <td>46963</td>\n",
              "      <td>0</td>\n",
              "    </tr>\n",
              "    <tr>\n",
              "      <th>1</th>\n",
              "      <td>22</td>\n",
              "      <td>39624</td>\n",
              "      <td>0</td>\n",
              "    </tr>\n",
              "    <tr>\n",
              "      <th>3</th>\n",
              "      <td>46</td>\n",
              "      <td>36266</td>\n",
              "      <td>0</td>\n",
              "    </tr>\n",
              "    <tr>\n",
              "      <th>4</th>\n",
              "      <td>35</td>\n",
              "      <td>26963</td>\n",
              "      <td>0</td>\n",
              "    </tr>\n",
              "    <tr>\n",
              "      <th>5</th>\n",
              "      <td>26</td>\n",
              "      <td>42721</td>\n",
              "      <td>0</td>\n",
              "    </tr>\n",
              "  </tbody>\n",
              "</table>\n",
              "</div>"
            ],
            "text/plain": [
              "   Umur  Premi  Tertarik\n",
              "0    49  46963         0\n",
              "1    22  39624         0\n",
              "3    46  36266         0\n",
              "4    35  26963         0\n",
              "5    26  42721         0"
            ]
          },
          "metadata": {
            "tags": []
          },
          "execution_count": 26
        }
      ]
    },
    {
      "cell_type": "code",
      "metadata": {
        "colab": {
          "base_uri": "https://localhost:8080/",
          "height": 142
        },
        "id": "riBG3L_8D7CW",
        "outputId": "2441a1e6-716d-4774-b3dc-4d910dda124e"
      },
      "source": [
        "targetTest = DTest['Tertarik']\n",
        "Test = DTest.drop(['Tertarik'], axis=1)\n",
        "Test.head(3)"
      ],
      "execution_count": null,
      "outputs": [
        {
          "output_type": "execute_result",
          "data": {
            "text/html": [
              "<div>\n",
              "<style scoped>\n",
              "    .dataframe tbody tr th:only-of-type {\n",
              "        vertical-align: middle;\n",
              "    }\n",
              "\n",
              "    .dataframe tbody tr th {\n",
              "        vertical-align: top;\n",
              "    }\n",
              "\n",
              "    .dataframe thead th {\n",
              "        text-align: right;\n",
              "    }\n",
              "</style>\n",
              "<table border=\"1\" class=\"dataframe\">\n",
              "  <thead>\n",
              "    <tr style=\"text-align: right;\">\n",
              "      <th></th>\n",
              "      <th>Umur</th>\n",
              "      <th>Premi</th>\n",
              "    </tr>\n",
              "  </thead>\n",
              "  <tbody>\n",
              "    <tr>\n",
              "      <th>0</th>\n",
              "      <td>49</td>\n",
              "      <td>46963</td>\n",
              "    </tr>\n",
              "    <tr>\n",
              "      <th>1</th>\n",
              "      <td>22</td>\n",
              "      <td>39624</td>\n",
              "    </tr>\n",
              "    <tr>\n",
              "      <th>3</th>\n",
              "      <td>46</td>\n",
              "      <td>36266</td>\n",
              "    </tr>\n",
              "  </tbody>\n",
              "</table>\n",
              "</div>"
            ],
            "text/plain": [
              "   Umur  Premi\n",
              "0    49  46963\n",
              "1    22  39624\n",
              "3    46  36266"
            ]
          },
          "metadata": {
            "tags": []
          },
          "execution_count": 27
        }
      ]
    },
    {
      "cell_type": "code",
      "metadata": {
        "colab": {
          "base_uri": "https://localhost:8080/"
        },
        "id": "AqGEofqRD1FC",
        "outputId": "b564755d-0eac-45ab-ce1f-fd80c4069ee8"
      },
      "source": [
        "print(targetTrain)\n",
        "print(targetTest)"
      ],
      "execution_count": null,
      "outputs": [
        {
          "output_type": "stream",
          "text": [
            "0         0\n",
            "1         0\n",
            "2         0\n",
            "4         0\n",
            "5         0\n",
            "         ..\n",
            "285826    0\n",
            "285827    0\n",
            "285828    0\n",
            "285829    0\n",
            "285830    0\n",
            "Name: Tertarik, Length: 213398, dtype: int64\n",
            "0        0\n",
            "1        0\n",
            "3        0\n",
            "4        0\n",
            "5        0\n",
            "        ..\n",
            "47634    0\n",
            "47635    0\n",
            "47636    0\n",
            "47637    1\n",
            "47638    0\n",
            "Name: Tertarik, Length: 46027, dtype: int64\n"
          ],
          "name": "stdout"
        }
      ]
    },
    {
      "cell_type": "markdown",
      "metadata": {
        "id": "X6C9xSQ3V8_p"
      },
      "source": [
        "### Split data"
      ]
    },
    {
      "cell_type": "code",
      "metadata": {
        "id": "YHq2jMFRezSA"
      },
      "source": [
        "Xtrain, ytrain = Train[:], targetTrain\n",
        "Xtest, ytest = Test[:], targetTest"
      ],
      "execution_count": null,
      "outputs": []
    },
    {
      "cell_type": "code",
      "metadata": {
        "id": "A5odCV-FEKOu"
      },
      "source": [
        "Xtrain = Xtrain.values\n",
        "Xtest = Xtest.values\n",
        "ytrain = ytrain.values\n",
        "ytest = ytest.values"
      ],
      "execution_count": null,
      "outputs": []
    },
    {
      "cell_type": "code",
      "metadata": {
        "colab": {
          "base_uri": "https://localhost:8080/"
        },
        "id": "Gj4lUiY7Bj9W",
        "outputId": "81972a79-4a1c-42a6-8edd-0eca998a2ce1"
      },
      "source": [
        "Xtrain"
      ],
      "execution_count": null,
      "outputs": [
        {
          "output_type": "execute_result",
          "data": {
            "text/plain": [
              "array([[3.0000e+01, 2.8029e+04],\n",
              "       [4.8000e+01, 2.5800e+04],\n",
              "       [2.1000e+01, 3.2733e+04],\n",
              "       ...,\n",
              "       [2.3000e+01, 4.9751e+04],\n",
              "       [6.8000e+01, 3.0503e+04],\n",
              "       [4.5000e+01, 3.6480e+04]])"
            ]
          },
          "metadata": {
            "tags": []
          },
          "execution_count": 31
        }
      ]
    },
    {
      "cell_type": "code",
      "metadata": {
        "colab": {
          "base_uri": "https://localhost:8080/"
        },
        "id": "P_WxtoQLFDjJ",
        "outputId": "22545205-5d80-46ed-9adf-f4c5ba3d402f"
      },
      "source": [
        "Xtest"
      ],
      "execution_count": null,
      "outputs": [
        {
          "output_type": "execute_result",
          "data": {
            "text/plain": [
              "array([[   49, 46963],\n",
              "       [   22, 39624],\n",
              "       [   46, 36266],\n",
              "       ...,\n",
              "       [   24, 33101],\n",
              "       [   59, 37788],\n",
              "       [   52,  2630]])"
            ]
          },
          "metadata": {
            "tags": []
          },
          "execution_count": 32
        }
      ]
    },
    {
      "cell_type": "code",
      "metadata": {
        "colab": {
          "base_uri": "https://localhost:8080/"
        },
        "id": "xTxxGC2MFEy-",
        "outputId": "f0f69af7-773b-42b0-a18b-593113f59d95"
      },
      "source": [
        "ytrain"
      ],
      "execution_count": null,
      "outputs": [
        {
          "output_type": "execute_result",
          "data": {
            "text/plain": [
              "array([0, 0, 0, ..., 0, 0, 0])"
            ]
          },
          "metadata": {
            "tags": []
          },
          "execution_count": 33
        }
      ]
    },
    {
      "cell_type": "code",
      "metadata": {
        "colab": {
          "base_uri": "https://localhost:8080/"
        },
        "id": "Gp08LOxsFF1Z",
        "outputId": "db082760-e1c4-4bab-9008-7a3d353f28e2"
      },
      "source": [
        "ytest"
      ],
      "execution_count": null,
      "outputs": [
        {
          "output_type": "execute_result",
          "data": {
            "text/plain": [
              "array([0, 0, 0, ..., 0, 1, 0])"
            ]
          },
          "metadata": {
            "tags": []
          },
          "execution_count": 34
        }
      ]
    },
    {
      "cell_type": "code",
      "metadata": {
        "colab": {
          "base_uri": "https://localhost:8080/"
        },
        "id": "2ZjwpB11uvRc",
        "outputId": "4c404bc0-0cda-41da-f92d-9c7467f42749"
      },
      "source": [
        "len(Xtest)"
      ],
      "execution_count": null,
      "outputs": [
        {
          "output_type": "execute_result",
          "data": {
            "text/plain": [
              "46027"
            ]
          },
          "metadata": {
            "tags": []
          },
          "execution_count": 35
        }
      ]
    },
    {
      "cell_type": "code",
      "metadata": {
        "colab": {
          "base_uri": "https://localhost:8080/"
        },
        "id": "gdn6OCA_uwi1",
        "outputId": "701c2dde-47bd-406c-a690-e6526770f875"
      },
      "source": [
        "len(ytest)"
      ],
      "execution_count": null,
      "outputs": [
        {
          "output_type": "execute_result",
          "data": {
            "text/plain": [
              "46027"
            ]
          },
          "metadata": {
            "tags": []
          },
          "execution_count": 36
        }
      ]
    },
    {
      "cell_type": "markdown",
      "metadata": {
        "id": "pvyrVUs3EuzD"
      },
      "source": [
        "### SVM"
      ]
    },
    {
      "cell_type": "code",
      "metadata": {
        "colab": {
          "base_uri": "https://localhost:8080/"
        },
        "id": "tqRjrqc2Ghfm",
        "outputId": "aff881fb-c26e-4042-81d3-b537d6878d17"
      },
      "source": [
        "# from sklearn.metrics import accuracy_score, classification_report, confusion_matrix\n",
        "# import sklearn.metrics as metrics\n",
        "svm = SVC()\n",
        "svm.fit(Xtrain, ytrain)\n",
        "SVM_pred = svm.predict(Xtest)\n",
        "print(\"Support Vector Machine\\n\")\n",
        "# for i in range(len(SVM_pred)):\n",
        "#     print(SVM_pred[i])\n",
        "\n",
        "print(\"F1-SCORE \",f1(ytest,SVM_pred,average='macro') * 100)\n",
        "\n",
        "print(\"ACCURACY \",acc(ytest,SVM_pred) * 100)\n",
        "\n",
        "print(\"PRECISION \",prec(ytest,SVM_pred,average='macro') * 100)\n",
        "\n",
        "print(\"RECALL\",recall(ytest,SVM_pred,average='macro') * 100)"
      ],
      "execution_count": null,
      "outputs": [
        {
          "output_type": "stream",
          "text": [
            "Support Vector Machine\n",
            "\n",
            "F1-SCORE  46.73848895471956\n",
            "ACCURACY  87.75284072392292\n",
            "PRECISION  43.87642036196146\n",
            "RECALL 50.0\n"
          ],
          "name": "stdout"
        },
        {
          "output_type": "stream",
          "text": [
            "/usr/local/lib/python3.7/dist-packages/sklearn/metrics/_classification.py:1272: UndefinedMetricWarning: Precision is ill-defined and being set to 0.0 in labels with no predicted samples. Use `zero_division` parameter to control this behavior.\n",
            "  _warn_prf(average, modifier, msg_start, len(result))\n"
          ],
          "name": "stderr"
        }
      ]
    },
    {
      "cell_type": "code",
      "metadata": {
        "colab": {
          "base_uri": "https://localhost:8080/",
          "height": 204
        },
        "id": "ZGHcrEb0gDOa",
        "outputId": "4130ace4-9cd8-4ad6-dff7-23ff32d217d4"
      },
      "source": [
        "TestEvalSVM = DTest.copy()\n",
        "TestEvalSVM['Hasil Prediksi SVM'] = SVM_pred\n",
        "\n",
        "TestEvalSVM.head()"
      ],
      "execution_count": null,
      "outputs": [
        {
          "output_type": "execute_result",
          "data": {
            "text/html": [
              "<div>\n",
              "<style scoped>\n",
              "    .dataframe tbody tr th:only-of-type {\n",
              "        vertical-align: middle;\n",
              "    }\n",
              "\n",
              "    .dataframe tbody tr th {\n",
              "        vertical-align: top;\n",
              "    }\n",
              "\n",
              "    .dataframe thead th {\n",
              "        text-align: right;\n",
              "    }\n",
              "</style>\n",
              "<table border=\"1\" class=\"dataframe\">\n",
              "  <thead>\n",
              "    <tr style=\"text-align: right;\">\n",
              "      <th></th>\n",
              "      <th>Umur</th>\n",
              "      <th>Premi</th>\n",
              "      <th>Tertarik</th>\n",
              "      <th>Hasil Prediksi SVM</th>\n",
              "    </tr>\n",
              "  </thead>\n",
              "  <tbody>\n",
              "    <tr>\n",
              "      <th>0</th>\n",
              "      <td>49</td>\n",
              "      <td>46963</td>\n",
              "      <td>0</td>\n",
              "      <td>0</td>\n",
              "    </tr>\n",
              "    <tr>\n",
              "      <th>1</th>\n",
              "      <td>22</td>\n",
              "      <td>39624</td>\n",
              "      <td>0</td>\n",
              "      <td>0</td>\n",
              "    </tr>\n",
              "    <tr>\n",
              "      <th>3</th>\n",
              "      <td>46</td>\n",
              "      <td>36266</td>\n",
              "      <td>0</td>\n",
              "      <td>0</td>\n",
              "    </tr>\n",
              "    <tr>\n",
              "      <th>4</th>\n",
              "      <td>35</td>\n",
              "      <td>26963</td>\n",
              "      <td>0</td>\n",
              "      <td>0</td>\n",
              "    </tr>\n",
              "    <tr>\n",
              "      <th>5</th>\n",
              "      <td>26</td>\n",
              "      <td>42721</td>\n",
              "      <td>0</td>\n",
              "      <td>0</td>\n",
              "    </tr>\n",
              "  </tbody>\n",
              "</table>\n",
              "</div>"
            ],
            "text/plain": [
              "   Umur  Premi  Tertarik  Hasil Prediksi SVM\n",
              "0    49  46963         0                   0\n",
              "1    22  39624         0                   0\n",
              "3    46  36266         0                   0\n",
              "4    35  26963         0                   0\n",
              "5    26  42721         0                   0"
            ]
          },
          "metadata": {
            "tags": []
          },
          "execution_count": 52
        }
      ]
    },
    {
      "cell_type": "markdown",
      "metadata": {
        "id": "tqds46u0VUPK"
      },
      "source": [
        "### Evaluasi"
      ]
    },
    {
      "cell_type": "code",
      "metadata": {
        "id": "E_0e0Ft6TgQf"
      },
      "source": [
        "from sklearn import metrics\n",
        "\n",
        "def confusion_metrics (y_test,y_pred):\n",
        "    #Showing Confusion Matrix to know True Positive, False Positive, True Negative and False Negative   \n",
        "    cm = metrics.confusion_matrix(y_test, y_pred)\n",
        "    cm_df = pd.DataFrame(cm, \n",
        "                         columns = ['Predicted Negative', 'Predicted Positive'], \n",
        "                         index = ['Actual Negative', 'Actual Positive'])\n",
        "\n",
        "    #Assign True Positive, False Positive, True Negative and False Negative intu variable\n",
        "    TN = cm_df.loc['Actual Negative','Predicted Negative']\n",
        "    FN = cm_df.loc['Actual Positive','Predicted Negative']\n",
        "    FP = cm_df.loc['Actual Negative','Predicted Positive']\n",
        "    TP = cm_df.loc['Actual Positive','Predicted Positive']\n",
        "    \n",
        "    print('True Negative  : ',TN)\n",
        "    print('False Negative : ',FN)\n",
        "    print('False Positive : ',FP)\n",
        "    print('True Positive  : ',TP)\n",
        "    print('')\n",
        "    \n",
        "    #Find Precision, Recall, and F1-Score\n",
        "    from sklearn.metrics import classification_report\n",
        "    print(classification_report(y_test,y_pred))"
      ],
      "execution_count": null,
      "outputs": []
    },
    {
      "cell_type": "code",
      "metadata": {
        "colab": {
          "base_uri": "https://localhost:8080/"
        },
        "id": "hHhevgazheA2",
        "outputId": "61704402-2592-4a87-df64-7289e1e81635"
      },
      "source": [
        "#confusion Metrics\n",
        "confusion_metrics(ytest,SVM_pred)"
      ],
      "execution_count": null,
      "outputs": [
        {
          "output_type": "stream",
          "text": [
            "True Negative  :  40390\n",
            "False Negative :  5637\n",
            "False Positive :  0\n",
            "True Positive  :  0\n",
            "\n",
            "              precision    recall  f1-score   support\n",
            "\n",
            "           0       0.88      1.00      0.93     40390\n",
            "           1       0.00      0.00      0.00      5637\n",
            "\n",
            "    accuracy                           0.88     46027\n",
            "   macro avg       0.44      0.50      0.47     46027\n",
            "weighted avg       0.77      0.88      0.82     46027\n",
            "\n"
          ],
          "name": "stdout"
        },
        {
          "output_type": "stream",
          "text": [
            "/usr/local/lib/python3.7/dist-packages/sklearn/metrics/_classification.py:1272: UndefinedMetricWarning: Precision and F-score are ill-defined and being set to 0.0 in labels with no predicted samples. Use `zero_division` parameter to control this behavior.\n",
            "  _warn_prf(average, modifier, msg_start, len(result))\n"
          ],
          "name": "stderr"
        }
      ]
    },
    {
      "cell_type": "markdown",
      "metadata": {
        "id": "9jCQJmnpMWjx"
      },
      "source": [
        "## Eksperimen"
      ]
    },
    {
      "cell_type": "markdown",
      "metadata": {
        "id": "mCECQsKfbKow"
      },
      "source": [
        "### Naive Bayes"
      ]
    },
    {
      "cell_type": "code",
      "metadata": {
        "colab": {
          "base_uri": "https://localhost:8080/"
        },
        "id": "5K_wsvzebJrW",
        "outputId": "63bf480e-a288-4341-fb1e-9ea29a581548"
      },
      "source": [
        "#Create a Gaussian Classifier\n",
        "naive = GaussianNB()\n",
        "# Train the model using the training sets\n",
        "naive.fit(Xtrain, ytrain)\n",
        "#Predict Output\n",
        "NB_predict = naive.predict(Xtest)\n",
        "\n",
        "# Accuracy score\n",
        "print(\"NAIVE BAYES\\n\")\n",
        "# for i in range(len(cn_predict)):\n",
        "#     print(cn_predict[i])\n",
        "\n",
        "print(\"F1-SCORE \",f1(ytest,NB_predict,average='macro') * 100)\n",
        "\n",
        "print(\"ACCURACY \",acc(ytest,NB_predict) * 100)\n",
        "\n",
        "print(\"PRECISION \",prec(ytest,NB_predict,average='macro') * 100)\n",
        "\n",
        "print(\"RECALL\",recall(ytest,NB_predict,average='macro') * 100)"
      ],
      "execution_count": null,
      "outputs": [
        {
          "output_type": "stream",
          "text": [
            "NAIVE BAYES\n",
            "\n",
            "F1-SCORE  46.73848895471956\n",
            "ACCURACY  87.75284072392292\n",
            "PRECISION  43.87642036196146\n",
            "RECALL 50.0\n"
          ],
          "name": "stdout"
        },
        {
          "output_type": "stream",
          "text": [
            "/usr/local/lib/python3.7/dist-packages/sklearn/metrics/_classification.py:1272: UndefinedMetricWarning: Precision is ill-defined and being set to 0.0 in labels with no predicted samples. Use `zero_division` parameter to control this behavior.\n",
            "  _warn_prf(average, modifier, msg_start, len(result))\n"
          ],
          "name": "stderr"
        }
      ]
    },
    {
      "cell_type": "code",
      "metadata": {
        "colab": {
          "base_uri": "https://localhost:8080/"
        },
        "id": "Nr-acMr0aWcP",
        "outputId": "4bdff6dd-70c8-4a18-f48d-80e2ed2c9a0d"
      },
      "source": [
        "#Hasil Prediksinya kan di variabel \"cn_predict\"\n",
        "NB_predict"
      ],
      "execution_count": null,
      "outputs": [
        {
          "output_type": "execute_result",
          "data": {
            "text/plain": [
              "array([0, 0, 0, ..., 0, 0, 0])"
            ]
          },
          "metadata": {
            "tags": []
          },
          "execution_count": 38
        }
      ]
    },
    {
      "cell_type": "code",
      "metadata": {
        "colab": {
          "base_uri": "https://localhost:8080/",
          "height": 204
        },
        "id": "udZeZ5iuafBa",
        "outputId": "6505ce94-b016-44c8-eff3-cb5d286ff476"
      },
      "source": [
        "#Dataframe Test sebelum ditambahkan hasil prediksi\n",
        "DTest.head()"
      ],
      "execution_count": null,
      "outputs": [
        {
          "output_type": "execute_result",
          "data": {
            "text/html": [
              "<div>\n",
              "<style scoped>\n",
              "    .dataframe tbody tr th:only-of-type {\n",
              "        vertical-align: middle;\n",
              "    }\n",
              "\n",
              "    .dataframe tbody tr th {\n",
              "        vertical-align: top;\n",
              "    }\n",
              "\n",
              "    .dataframe thead th {\n",
              "        text-align: right;\n",
              "    }\n",
              "</style>\n",
              "<table border=\"1\" class=\"dataframe\">\n",
              "  <thead>\n",
              "    <tr style=\"text-align: right;\">\n",
              "      <th></th>\n",
              "      <th>Umur</th>\n",
              "      <th>Premi</th>\n",
              "      <th>Tertarik</th>\n",
              "    </tr>\n",
              "  </thead>\n",
              "  <tbody>\n",
              "    <tr>\n",
              "      <th>0</th>\n",
              "      <td>49</td>\n",
              "      <td>46963</td>\n",
              "      <td>0</td>\n",
              "    </tr>\n",
              "    <tr>\n",
              "      <th>1</th>\n",
              "      <td>22</td>\n",
              "      <td>39624</td>\n",
              "      <td>0</td>\n",
              "    </tr>\n",
              "    <tr>\n",
              "      <th>3</th>\n",
              "      <td>46</td>\n",
              "      <td>36266</td>\n",
              "      <td>0</td>\n",
              "    </tr>\n",
              "    <tr>\n",
              "      <th>4</th>\n",
              "      <td>35</td>\n",
              "      <td>26963</td>\n",
              "      <td>0</td>\n",
              "    </tr>\n",
              "    <tr>\n",
              "      <th>5</th>\n",
              "      <td>26</td>\n",
              "      <td>42721</td>\n",
              "      <td>0</td>\n",
              "    </tr>\n",
              "  </tbody>\n",
              "</table>\n",
              "</div>"
            ],
            "text/plain": [
              "   Umur  Premi  Tertarik\n",
              "0    49  46963         0\n",
              "1    22  39624         0\n",
              "3    46  36266         0\n",
              "4    35  26963         0\n",
              "5    26  42721         0"
            ]
          },
          "metadata": {
            "tags": []
          },
          "execution_count": 39
        }
      ]
    },
    {
      "cell_type": "code",
      "metadata": {
        "colab": {
          "base_uri": "https://localhost:8080/",
          "height": 204
        },
        "id": "-EkCOvDAfHoy",
        "outputId": "ed19e58b-5a9f-48c7-8aa5-13e5c630a83b"
      },
      "source": [
        "TestEval = DTest.copy()\n",
        "TestEval['Hasil Prediksi'] = NB_predict\n",
        "\n",
        "TestEval.head()"
      ],
      "execution_count": null,
      "outputs": [
        {
          "output_type": "execute_result",
          "data": {
            "text/html": [
              "<div>\n",
              "<style scoped>\n",
              "    .dataframe tbody tr th:only-of-type {\n",
              "        vertical-align: middle;\n",
              "    }\n",
              "\n",
              "    .dataframe tbody tr th {\n",
              "        vertical-align: top;\n",
              "    }\n",
              "\n",
              "    .dataframe thead th {\n",
              "        text-align: right;\n",
              "    }\n",
              "</style>\n",
              "<table border=\"1\" class=\"dataframe\">\n",
              "  <thead>\n",
              "    <tr style=\"text-align: right;\">\n",
              "      <th></th>\n",
              "      <th>Umur</th>\n",
              "      <th>Premi</th>\n",
              "      <th>Tertarik</th>\n",
              "      <th>Hasil Prediksi</th>\n",
              "    </tr>\n",
              "  </thead>\n",
              "  <tbody>\n",
              "    <tr>\n",
              "      <th>0</th>\n",
              "      <td>49</td>\n",
              "      <td>46963</td>\n",
              "      <td>0</td>\n",
              "      <td>0</td>\n",
              "    </tr>\n",
              "    <tr>\n",
              "      <th>1</th>\n",
              "      <td>22</td>\n",
              "      <td>39624</td>\n",
              "      <td>0</td>\n",
              "      <td>0</td>\n",
              "    </tr>\n",
              "    <tr>\n",
              "      <th>3</th>\n",
              "      <td>46</td>\n",
              "      <td>36266</td>\n",
              "      <td>0</td>\n",
              "      <td>0</td>\n",
              "    </tr>\n",
              "    <tr>\n",
              "      <th>4</th>\n",
              "      <td>35</td>\n",
              "      <td>26963</td>\n",
              "      <td>0</td>\n",
              "      <td>0</td>\n",
              "    </tr>\n",
              "    <tr>\n",
              "      <th>5</th>\n",
              "      <td>26</td>\n",
              "      <td>42721</td>\n",
              "      <td>0</td>\n",
              "      <td>0</td>\n",
              "    </tr>\n",
              "  </tbody>\n",
              "</table>\n",
              "</div>"
            ],
            "text/plain": [
              "   Umur  Premi  Tertarik  Hasil Prediksi\n",
              "0    49  46963         0               0\n",
              "1    22  39624         0               0\n",
              "3    46  36266         0               0\n",
              "4    35  26963         0               0\n",
              "5    26  42721         0               0"
            ]
          },
          "metadata": {
            "tags": []
          },
          "execution_count": 40
        }
      ]
    },
    {
      "cell_type": "code",
      "metadata": {
        "colab": {
          "base_uri": "https://localhost:8080/"
        },
        "id": "tsk7aXl0fYY8",
        "outputId": "3dd987c1-c9d8-4644-fb17-04feb4bb61d9"
      },
      "source": [
        "#confusion Metrics\n",
        "confusion_metrics(ytest,NB_predict)"
      ],
      "execution_count": null,
      "outputs": [
        {
          "output_type": "stream",
          "text": [
            "True Negative  :  40390\n",
            "False Negative :  5637\n",
            "False Positive :  0\n",
            "True Positive  :  0\n",
            "\n",
            "              precision    recall  f1-score   support\n",
            "\n",
            "           0       0.88      1.00      0.93     40390\n",
            "           1       0.00      0.00      0.00      5637\n",
            "\n",
            "    accuracy                           0.88     46027\n",
            "   macro avg       0.44      0.50      0.47     46027\n",
            "weighted avg       0.77      0.88      0.82     46027\n",
            "\n"
          ],
          "name": "stdout"
        },
        {
          "output_type": "stream",
          "text": [
            "/usr/local/lib/python3.7/dist-packages/sklearn/metrics/_classification.py:1272: UndefinedMetricWarning: Precision and F-score are ill-defined and being set to 0.0 in labels with no predicted samples. Use `zero_division` parameter to control this behavior.\n",
            "  _warn_prf(average, modifier, msg_start, len(result))\n"
          ],
          "name": "stderr"
        }
      ]
    },
    {
      "cell_type": "markdown",
      "metadata": {
        "id": "oVS3cdfscAaJ"
      },
      "source": [
        "### Decision Tree"
      ]
    },
    {
      "cell_type": "code",
      "metadata": {
        "colab": {
          "base_uri": "https://localhost:8080/"
        },
        "id": "DBYX66CicDjr",
        "outputId": "c3d36719-a8f8-4090-b7df-4a5f6fd9d5af"
      },
      "source": [
        "# Create Decision Tree classifer object\n",
        "d3 = DecisionTreeClassifier(criterion=\"entropy\", max_depth=4)\n",
        "\n",
        "# Train Decision Tree Classifer\n",
        "d3 = d3.fit(Xtrain,ytrain)\n",
        "\n",
        "#Predict the response for test dataset\n",
        "d3_predict = d3.predict(Xtest)\n",
        "# Accuracy score\n",
        "print(\"DECISION TREE\\n\")\n",
        "# for i in range(len(d3_predict)):\n",
        "#     print(d3_predict[i])\n",
        "\n",
        "print(\"F1-SCORE \",f1(ytest,d3_predict,average='macro') * 100)\n",
        "\n",
        "print(\"ACCURACY \",acc(ytest,d3_predict) * 100)\n",
        "\n",
        "print(\"PRECISION \",prec(ytest,d3_predict,average='macro') * 100)\n",
        "\n",
        "print(\"RECALL\",recall(ytest,d3_predict,average='macro') * 100)"
      ],
      "execution_count": null,
      "outputs": [
        {
          "output_type": "stream",
          "text": [
            "DECISION TREE\n",
            "\n",
            "F1-SCORE  46.73848895471956\n",
            "ACCURACY  87.75284072392292\n",
            "PRECISION  43.87642036196146\n",
            "RECALL 50.0\n"
          ],
          "name": "stdout"
        },
        {
          "output_type": "stream",
          "text": [
            "/usr/local/lib/python3.7/dist-packages/sklearn/metrics/_classification.py:1272: UndefinedMetricWarning: Precision is ill-defined and being set to 0.0 in labels with no predicted samples. Use `zero_division` parameter to control this behavior.\n",
            "  _warn_prf(average, modifier, msg_start, len(result))\n"
          ],
          "name": "stderr"
        }
      ]
    },
    {
      "cell_type": "code",
      "metadata": {
        "colab": {
          "base_uri": "https://localhost:8080/",
          "height": 204
        },
        "id": "kQoo1Qq8g4dp",
        "outputId": "f5da6d9c-3e95-41a8-d1d3-456a97bb6e7b"
      },
      "source": [
        "TestEvalD3 = DTest.copy()\n",
        "TestEvalD3['Hasil Prediksi D3'] = d3_predict\n",
        "\n",
        "TestEvalD3.head()"
      ],
      "execution_count": null,
      "outputs": [
        {
          "output_type": "execute_result",
          "data": {
            "text/html": [
              "<div>\n",
              "<style scoped>\n",
              "    .dataframe tbody tr th:only-of-type {\n",
              "        vertical-align: middle;\n",
              "    }\n",
              "\n",
              "    .dataframe tbody tr th {\n",
              "        vertical-align: top;\n",
              "    }\n",
              "\n",
              "    .dataframe thead th {\n",
              "        text-align: right;\n",
              "    }\n",
              "</style>\n",
              "<table border=\"1\" class=\"dataframe\">\n",
              "  <thead>\n",
              "    <tr style=\"text-align: right;\">\n",
              "      <th></th>\n",
              "      <th>Umur</th>\n",
              "      <th>Premi</th>\n",
              "      <th>Tertarik</th>\n",
              "      <th>Hasil Prediksi D3</th>\n",
              "    </tr>\n",
              "  </thead>\n",
              "  <tbody>\n",
              "    <tr>\n",
              "      <th>0</th>\n",
              "      <td>49</td>\n",
              "      <td>46963</td>\n",
              "      <td>0</td>\n",
              "      <td>0</td>\n",
              "    </tr>\n",
              "    <tr>\n",
              "      <th>1</th>\n",
              "      <td>22</td>\n",
              "      <td>39624</td>\n",
              "      <td>0</td>\n",
              "      <td>0</td>\n",
              "    </tr>\n",
              "    <tr>\n",
              "      <th>3</th>\n",
              "      <td>46</td>\n",
              "      <td>36266</td>\n",
              "      <td>0</td>\n",
              "      <td>0</td>\n",
              "    </tr>\n",
              "    <tr>\n",
              "      <th>4</th>\n",
              "      <td>35</td>\n",
              "      <td>26963</td>\n",
              "      <td>0</td>\n",
              "      <td>0</td>\n",
              "    </tr>\n",
              "    <tr>\n",
              "      <th>5</th>\n",
              "      <td>26</td>\n",
              "      <td>42721</td>\n",
              "      <td>0</td>\n",
              "      <td>0</td>\n",
              "    </tr>\n",
              "  </tbody>\n",
              "</table>\n",
              "</div>"
            ],
            "text/plain": [
              "   Umur  Premi  Tertarik  Hasil Prediksi D3\n",
              "0    49  46963         0                  0\n",
              "1    22  39624         0                  0\n",
              "3    46  36266         0                  0\n",
              "4    35  26963         0                  0\n",
              "5    26  42721         0                  0"
            ]
          },
          "metadata": {
            "tags": []
          },
          "execution_count": 49
        }
      ]
    },
    {
      "cell_type": "code",
      "metadata": {
        "colab": {
          "base_uri": "https://localhost:8080/"
        },
        "id": "jTalXnwehDq_",
        "outputId": "fdb6cc9e-51b0-41fb-b78f-326d1903de50"
      },
      "source": [
        "#confusion Metrics\n",
        "confusion_metrics(ytest,d3_predict)"
      ],
      "execution_count": null,
      "outputs": [
        {
          "output_type": "stream",
          "text": [
            "True Negative  :  40390\n",
            "False Negative :  5637\n",
            "False Positive :  0\n",
            "True Positive  :  0\n",
            "\n",
            "              precision    recall  f1-score   support\n",
            "\n",
            "           0       0.88      1.00      0.93     40390\n",
            "           1       0.00      0.00      0.00      5637\n",
            "\n",
            "    accuracy                           0.88     46027\n",
            "   macro avg       0.44      0.50      0.47     46027\n",
            "weighted avg       0.77      0.88      0.82     46027\n",
            "\n"
          ],
          "name": "stdout"
        },
        {
          "output_type": "stream",
          "text": [
            "/usr/local/lib/python3.7/dist-packages/sklearn/metrics/_classification.py:1272: UndefinedMetricWarning: Precision and F-score are ill-defined and being set to 0.0 in labels with no predicted samples. Use `zero_division` parameter to control this behavior.\n",
            "  _warn_prf(average, modifier, msg_start, len(result))\n"
          ],
          "name": "stderr"
        }
      ]
    },
    {
      "cell_type": "markdown",
      "metadata": {
        "id": "_hy0EbL4NdLB"
      },
      "source": [
        "### Random Forest"
      ]
    },
    {
      "cell_type": "code",
      "metadata": {
        "colab": {
          "base_uri": "https://localhost:8080/"
        },
        "id": "p04--VbdV1I6",
        "outputId": "6ffeca82-b034-4594-bd65-c499ed181d1d"
      },
      "source": [
        "rf = RandomForestClassifier().fit(Xtrain, ytrain)\n",
        "# report.metrics(rf)\n",
        "rf_predict = rf.predict(Xtest)\n",
        "\n",
        "print(\"Random Forest\\n\")\n",
        "# for i in range(len(cd_predict)):\n",
        "#     print(cd_predict[i])\n",
        "\n",
        "print(\"F1-SCORE \",f1(ytest,rf_predict,average='macro') * 100)\n",
        "print(\"ACCURACY \",acc(ytest,rf_predict) * 100)\n",
        "print(\"PRECISION \",prec(ytest,rf_predict,average='macro') * 100)\n",
        "print(\"RECALL\",recall(ytest,rf_predict,average='macro') * 100)"
      ],
      "execution_count": null,
      "outputs": [
        {
          "output_type": "stream",
          "text": [
            "Random Forest\n",
            "\n",
            "F1-SCORE  52.33918182782682\n",
            "ACCURACY  81.33269602624547\n",
            "PRECISION  52.68925353917903\n",
            "RECALL 52.20332005100352\n"
          ],
          "name": "stdout"
        }
      ]
    },
    {
      "cell_type": "code",
      "metadata": {
        "colab": {
          "base_uri": "https://localhost:8080/",
          "height": 204
        },
        "id": "jNSGZS3xgLjk",
        "outputId": "5fae4600-7155-4795-cb27-5e5d263575a4"
      },
      "source": [
        "TestEvalRF = DTest.copy()\n",
        "TestEvalRF['Hasil Prediksi RF'] = rf_predict\n",
        "\n",
        "TestEvalRF.head()"
      ],
      "execution_count": null,
      "outputs": [
        {
          "output_type": "execute_result",
          "data": {
            "text/html": [
              "<div>\n",
              "<style scoped>\n",
              "    .dataframe tbody tr th:only-of-type {\n",
              "        vertical-align: middle;\n",
              "    }\n",
              "\n",
              "    .dataframe tbody tr th {\n",
              "        vertical-align: top;\n",
              "    }\n",
              "\n",
              "    .dataframe thead th {\n",
              "        text-align: right;\n",
              "    }\n",
              "</style>\n",
              "<table border=\"1\" class=\"dataframe\">\n",
              "  <thead>\n",
              "    <tr style=\"text-align: right;\">\n",
              "      <th></th>\n",
              "      <th>Umur</th>\n",
              "      <th>Premi</th>\n",
              "      <th>Tertarik</th>\n",
              "      <th>Hasil Prediksi RF</th>\n",
              "    </tr>\n",
              "  </thead>\n",
              "  <tbody>\n",
              "    <tr>\n",
              "      <th>0</th>\n",
              "      <td>49</td>\n",
              "      <td>46963</td>\n",
              "      <td>0</td>\n",
              "      <td>0</td>\n",
              "    </tr>\n",
              "    <tr>\n",
              "      <th>1</th>\n",
              "      <td>22</td>\n",
              "      <td>39624</td>\n",
              "      <td>0</td>\n",
              "      <td>0</td>\n",
              "    </tr>\n",
              "    <tr>\n",
              "      <th>3</th>\n",
              "      <td>46</td>\n",
              "      <td>36266</td>\n",
              "      <td>0</td>\n",
              "      <td>0</td>\n",
              "    </tr>\n",
              "    <tr>\n",
              "      <th>4</th>\n",
              "      <td>35</td>\n",
              "      <td>26963</td>\n",
              "      <td>0</td>\n",
              "      <td>0</td>\n",
              "    </tr>\n",
              "    <tr>\n",
              "      <th>5</th>\n",
              "      <td>26</td>\n",
              "      <td>42721</td>\n",
              "      <td>0</td>\n",
              "      <td>0</td>\n",
              "    </tr>\n",
              "  </tbody>\n",
              "</table>\n",
              "</div>"
            ],
            "text/plain": [
              "   Umur  Premi  Tertarik  Hasil Prediksi RF\n",
              "0    49  46963         0                  0\n",
              "1    22  39624         0                  0\n",
              "3    46  36266         0                  0\n",
              "4    35  26963         0                  0\n",
              "5    26  42721         0                  0"
            ]
          },
          "metadata": {
            "tags": []
          },
          "execution_count": 43
        }
      ]
    },
    {
      "cell_type": "code",
      "metadata": {
        "colab": {
          "base_uri": "https://localhost:8080/"
        },
        "id": "znOBdyNUgVet",
        "outputId": "ef48336a-f4a0-4f03-efca-e72bc4c0d88e"
      },
      "source": [
        "#confusion Metrics\n",
        "confusion_metrics(ytest,rf_predict)"
      ],
      "execution_count": null,
      "outputs": [
        {
          "output_type": "stream",
          "text": [
            "True Negative  :  36667\n",
            "False Negative :  4869\n",
            "False Positive :  3723\n",
            "True Positive  :  768\n",
            "\n",
            "              precision    recall  f1-score   support\n",
            "\n",
            "           0       0.88      0.91      0.90     40390\n",
            "           1       0.17      0.14      0.15      5637\n",
            "\n",
            "    accuracy                           0.81     46027\n",
            "   macro avg       0.53      0.52      0.52     46027\n",
            "weighted avg       0.80      0.81      0.80     46027\n",
            "\n"
          ],
          "name": "stdout"
        }
      ]
    },
    {
      "cell_type": "markdown",
      "metadata": {
        "id": "xmYYUFdocYtI"
      },
      "source": [
        "### KNN"
      ]
    },
    {
      "cell_type": "code",
      "metadata": {
        "colab": {
          "base_uri": "https://localhost:8080/"
        },
        "id": "rcRW4VI8cZxu",
        "outputId": "bf5e238e-e5e7-43d8-ac39-0edf88e9b329"
      },
      "source": [
        "#Create a KNeighbors Classifier\n",
        "knn = KNeighborsClassifier(n_neighbors=5)\n",
        "\n",
        "# Train the model using the training sets\n",
        "knn.fit(Xtrain,ytrain)\n",
        "\n",
        "#Predict Output\n",
        "knn_predict = knn.predict(Xtest)\n",
        "\n",
        "# Accuracy score\n",
        "print(\"K NEAREST NEIGHBOR\\n\")\n",
        "# for i in range(len(knn_predict)):\n",
        "#     print(knn_predict[i])\n",
        "\n",
        "print(\"F1-SCORE \",f1(ytest,knn_predict,average='macro') * 100)\n",
        "\n",
        "print(\"ACCURACY \",acc(ytest,knn_predict) * 100)\n",
        "\n",
        "print(\"PRECISION \",prec(ytest,knn_predict,average='macro') * 100)\n",
        "\n",
        "print(\"RECALL\",recall(ytest,knn_predict,average='macro') * 100)"
      ],
      "execution_count": null,
      "outputs": [
        {
          "output_type": "stream",
          "text": [
            "K NEAREST NEIGHBOR\n",
            "\n",
            "F1-SCORE  49.60810707274225\n",
            "ACCURACY  86.57309839876595\n",
            "PRECISION  54.97180311252081\n",
            "RECALL 50.9534276040115\n"
          ],
          "name": "stdout"
        }
      ]
    },
    {
      "cell_type": "code",
      "metadata": {
        "colab": {
          "base_uri": "https://localhost:8080/",
          "height": 204
        },
        "id": "whE3zY2vgh4H",
        "outputId": "0268c0ca-bbd4-4290-970c-a7c77662fc15"
      },
      "source": [
        "TestEvalKNN = DTest.copy()\n",
        "TestEvalKNN['Hasil Prediksi KNN'] = knn_predict\n",
        "\n",
        "TestEvalKNN.head()"
      ],
      "execution_count": null,
      "outputs": [
        {
          "output_type": "execute_result",
          "data": {
            "text/html": [
              "<div>\n",
              "<style scoped>\n",
              "    .dataframe tbody tr th:only-of-type {\n",
              "        vertical-align: middle;\n",
              "    }\n",
              "\n",
              "    .dataframe tbody tr th {\n",
              "        vertical-align: top;\n",
              "    }\n",
              "\n",
              "    .dataframe thead th {\n",
              "        text-align: right;\n",
              "    }\n",
              "</style>\n",
              "<table border=\"1\" class=\"dataframe\">\n",
              "  <thead>\n",
              "    <tr style=\"text-align: right;\">\n",
              "      <th></th>\n",
              "      <th>Umur</th>\n",
              "      <th>Premi</th>\n",
              "      <th>Tertarik</th>\n",
              "      <th>Hasil Prediksi KNN</th>\n",
              "    </tr>\n",
              "  </thead>\n",
              "  <tbody>\n",
              "    <tr>\n",
              "      <th>0</th>\n",
              "      <td>49</td>\n",
              "      <td>46963</td>\n",
              "      <td>0</td>\n",
              "      <td>0</td>\n",
              "    </tr>\n",
              "    <tr>\n",
              "      <th>1</th>\n",
              "      <td>22</td>\n",
              "      <td>39624</td>\n",
              "      <td>0</td>\n",
              "      <td>0</td>\n",
              "    </tr>\n",
              "    <tr>\n",
              "      <th>3</th>\n",
              "      <td>46</td>\n",
              "      <td>36266</td>\n",
              "      <td>0</td>\n",
              "      <td>0</td>\n",
              "    </tr>\n",
              "    <tr>\n",
              "      <th>4</th>\n",
              "      <td>35</td>\n",
              "      <td>26963</td>\n",
              "      <td>0</td>\n",
              "      <td>0</td>\n",
              "    </tr>\n",
              "    <tr>\n",
              "      <th>5</th>\n",
              "      <td>26</td>\n",
              "      <td>42721</td>\n",
              "      <td>0</td>\n",
              "      <td>0</td>\n",
              "    </tr>\n",
              "  </tbody>\n",
              "</table>\n",
              "</div>"
            ],
            "text/plain": [
              "   Umur  Premi  Tertarik  Hasil Prediksi KNN\n",
              "0    49  46963         0                   0\n",
              "1    22  39624         0                   0\n",
              "3    46  36266         0                   0\n",
              "4    35  26963         0                   0\n",
              "5    26  42721         0                   0"
            ]
          },
          "metadata": {
            "tags": []
          },
          "execution_count": 46
        }
      ]
    },
    {
      "cell_type": "code",
      "metadata": {
        "colab": {
          "base_uri": "https://localhost:8080/"
        },
        "id": "P2H546ijgrzV",
        "outputId": "68b7b073-38e1-4d87-c679-d9dfa5a52cdb"
      },
      "source": [
        "#confusion Metrics\n",
        "confusion_metrics(ytest,knn_predict)"
      ],
      "execution_count": null,
      "outputs": [
        {
          "output_type": "stream",
          "text": [
            "True Negative  :  39634\n",
            "False Negative :  5424\n",
            "False Positive :  756\n",
            "True Positive  :  213\n",
            "\n",
            "              precision    recall  f1-score   support\n",
            "\n",
            "           0       0.88      0.98      0.93     40390\n",
            "           1       0.22      0.04      0.06      5637\n",
            "\n",
            "    accuracy                           0.87     46027\n",
            "   macro avg       0.55      0.51      0.50     46027\n",
            "weighted avg       0.80      0.87      0.82     46027\n",
            "\n"
          ],
          "name": "stdout"
        }
      ]
    },
    {
      "cell_type": "markdown",
      "metadata": {
        "id": "vIcLEan4YXIJ"
      },
      "source": [
        "eval model\n",
        "# New Section"
      ]
    },
    {
      "cell_type": "code",
      "metadata": {
        "id": "NYsLz0iHYZSd"
      },
      "source": [
        "# from sklearn.neighbors import KNeighborsClassifier\n",
        "# from sklearn.tree import DecisionTreeClassifier\n",
        "# from sklearn.ensemble import RandomForestClassifier, AdaBoostClassifier, GradientBoostingClassifier\n",
        "# from sklearn.naive_bayes import GaussianNB\n",
        "# from sklearn.discriminant_analysis import LinearDiscriminantAnalysis, QuadraticDiscriminantAnalysis\n",
        "# from sklearn.linear_model import LogisticRegression\n",
        "\n",
        "# classifiers = [\n",
        "#              KNeighborsClassifier(3),\n",
        "#              DecisionTreeClassifier(),\n",
        "#              RandomForestClassifier(),\n",
        "#              AdaBoostClassifier(),\n",
        "#              GradientBoostingClassifier(),\n",
        "#              GaussianNB(),\n",
        "#              LinearDiscriminantAnalysis(),\n",
        "#              QuadraticDiscriminantAnalysis(),\n",
        "#              LogisticRegression() \n",
        "# ]\n",
        "\n",
        "# log_cols = [\"Classifier\", \"Accuracy\"]\n",
        "# log = pd.DataFrame(columns=log_cols)"
      ],
      "execution_count": null,
      "outputs": []
    },
    {
      "cell_type": "code",
      "metadata": {
        "id": "1lWSnXJpYb69"
      },
      "source": [
        "# acc_dict = {}\n",
        "\n",
        "\n",
        "# for clf in classifiers:\n",
        "#   name = clf.__class__.__name__\n",
        "#   clf.fit(Xtrain,ytrain)\n",
        "#   pred = clf.predict(Xtest)\n",
        "#   acc = acc(ytest, pred)\n",
        "#   if name in acc_dict:\n",
        "#     acc_dict[name]+= acc\n",
        "#   else:\n",
        "#     acc_dict[name]= acc\n",
        "\n",
        "# for clf in acc_dict:\n",
        "#   acc_dict[clf] = acc_dict[clf]*100\n",
        "#   log_entry = pd.DataFrame([[clf, acc_dict[clf]]], columns= log_cols)\n",
        "#   log = log.append(log_entry)\n",
        "\n",
        "\n",
        "# sns.set_color_codes(\"muted\")\n",
        "# sns.barplot(x='Accuracy', y='Classifier', data=log, color=\"b\")"
      ],
      "execution_count": null,
      "outputs": []
    }
  ]
}